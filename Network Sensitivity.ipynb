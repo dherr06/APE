{
 "cells": [
  {
   "cell_type": "code",
   "execution_count": null,
   "metadata": {},
   "outputs": [],
   "source": [
    "import numpy as np\n",
    "import csv\n",
    "import matplotlib\n",
    "from scipy.optimize import fsolve\n",
    "import matplotlib.pyplot as plt\n",
    "from APE import APE\n",
    "from data_processing import data_processing\n",
    "%matplotlib inline"
   ]
  },
  {
   "cell_type": "code",
   "execution_count": null,
   "metadata": {},
   "outputs": [],
   "source": [
    "feature_train,y_final,x_bar,x_std,y_bar,y_std = data_processing.input_generator('run_data_trained.csv')\n",
    "validation_struct = data_processing.input_generator('serial_val_data.csv')\n",
    "val_x = validation_struct[0]\n",
    "val_y = validation_struct[1]"
   ]
  },
  {
   "cell_type": "code",
   "execution_count": null,
   "metadata": {},
   "outputs": [],
   "source": [
    "sigmoid = lambda x:1/(1+np.exp(-x))\n",
    "network = APE(sigmoid(feature_train),sigmoid(y_final),sigmoid(val_x),sigmoid(val_y),hidden_activation='softsign',output_activation='sigmoid')"
   ]
  },
  {
   "cell_type": "code",
   "execution_count": null,
   "metadata": {},
   "outputs": [],
   "source": [
    "network.arch_optimizer(max_layers=10,max_neurons=80)"
   ]
  },
  {
   "cell_type": "code",
   "execution_count": null,
   "metadata": {},
   "outputs": [],
   "source": [
    "for i in range(30):\n",
    "    x = np.linspace(1,np.size(optimal_archs['history'][i].history['loss']),np.size(optimal_archs['history'][i].history['loss']))\n",
    "    plt.plot(x,optimal_archs['history'][i].history['loss'],label='loss')\n",
    "    plt.plot(x,optimal_archs['history'][i].history['val_loss'],label='val_loss')\n",
    "    plt.legend(loc='best')\n",
    "    plt.title(str(optimal_archs['grid_struct'][i]))\n",
    "    plt.show()"
   ]
  }
 ],
 "metadata": {
  "kernelspec": {
   "display_name": "Python 3",
   "language": "python",
   "name": "python3"
  },
  "language_info": {
   "codemirror_mode": {
    "name": "ipython",
    "version": 3
   },
   "file_extension": ".py",
   "mimetype": "text/x-python",
   "name": "python",
   "nbconvert_exporter": "python",
   "pygments_lexer": "ipython3",
   "version": "3.7.3"
  }
 },
 "nbformat": 4,
 "nbformat_minor": 2
}
